{
 "cells": [
  {
   "cell_type": "markdown",
   "id": "28caedc9",
   "metadata": {},
   "source": [
    "# 🧩 What is Linear Regression?\n",
    "\n",
    "Linear Regression is one of the simplest and most powerful algorithms in Machine Learning.\n",
    "\n",
    "It tries to find a straight line that best fits the relationship between **input (X)** and **output (Y)**.\n",
    "\n",
    "For example:\n",
    "- You might want to predict a student’s marks based on hours studied.\n",
    "- You might want to predict the price of a house based on its size.\n",
    "\n",
    "The relationship can be represented as:\n",
    "\n",
    "$$ Y = mX + c $$\n",
    "\n",
    "Where:\n",
    "- **Y** → Predicted value\n",
    "- **X** → Input feature\n",
    "- **m** → Slope (how much Y changes when X increases)\n",
    "- **c** → Intercept (where the line crosses Y-axis)\n",
    "## Our goal → Find the best values of m and c so the line fits the data perfectly."
   ]
  },
  {
   "cell_type": "code",
   "execution_count": null,
   "id": "f51e1a18",
   "metadata": {
    "vscode": {
     "languageId": "plaintext"
    }
   },
   "outputs": [],
   "source": []
  },
  {
   "cell_type": "markdown",
   "id": "547a8a49",
   "metadata": {},
   "source": [
    "##  How Do We Know What’s “Best Fit”?\n",
    "\n",
    "We use an idea called Error (difference between actual and predicted value):\n",
    "\n",
    "Error=𝑦actual−𝑦predicted\n",
    "\n",
    "- Our goal: Find m and c that minimize this error.\n",
    "- We’ll use a method called **Gradient Descent** to do that.\n",
    "\n",
    "## Analogy to Understand Gradient Descent\n",
    "\n",
    "Imagine you’re blindfolded on a mountain trying to reach the lowest point (valley).\n",
    "\n",
    "You don’t know where the valley is, so you take small steps downward (following the slope).\n",
    "Each step reduces your height — until you reach the minimum.\n",
    "\n",
    "That’s exactly what gradient descent does —\n",
    "\n",
    "It keeps adjusting m and c little by little to reach the point where the error is smallest."
   ]
  }
 ],
 "metadata": {
  "language_info": {
   "name": "python"
  }
 },
 "nbformat": 4,
 "nbformat_minor": 5
}
