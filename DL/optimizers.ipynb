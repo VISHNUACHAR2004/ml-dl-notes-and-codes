{
 "cells": [
  {
   "cell_type": "markdown",
   "id": "82e7a9d8",
   "metadata": {},
   "source": [
    "# Optimizers and types:"
   ]
  },
  {
   "cell_type": "markdown",
   "id": "ea520931",
   "metadata": {},
   "source": [
    "### 1️⃣ WHAT is an Optimizer?\n",
    "\n",
    "**An optimizer is an algorithm that updates the model’s parameters (weights & biases) so that the model’s error (loss) is minimized.**\n",
    "Think of training as a journey down a hill:\n",
    "- The height of the hill = the loss (error)\n",
    "- The position on the hill = the model’s weights\n",
    "- The optimizer = the strategy you use to find the bottom (minimum error)"
   ]
  },
  {
   "cell_type": "markdown",
   "id": "35e1921d",
   "metadata": {},
   "source": [
    "### 2️⃣ WHY do we need Optimizers?\n",
    "\n",
    "**Because deep learning models have millions of weights, and we can’t manually adjust them.**\n",
    "\n",
    "We need a smart algorithm that can:\n",
    "\n",
    "- Learn which direction to move (increase or decrease weights)\n",
    "\n",
    "- Decide how big each step should be (learning rate)\n",
    "\n",
    "- Avoid overshooting the minimum\n",
    "\n",
    "- Handle complex “mountain landscapes” (local minima, saddle points)"
   ]
  }
 ],
 "metadata": {
  "language_info": {
   "name": "python"
  }
 },
 "nbformat": 4,
 "nbformat_minor": 5
}
